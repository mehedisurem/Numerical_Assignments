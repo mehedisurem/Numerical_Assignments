{
  "cells": [
    {
      "cell_type": "markdown",
      "source": [
        "                  Numerical Method Lab Assignment 1\n",
        "                  Sec: 2;\n",
        "                  Name: Mehedi Hasan Surem\n",
        "                  ID: 2030069"
      ],
      "metadata": {
        "id": "c70ihw3P_pxy"
      }
    },
    {
      "cell_type": "markdown",
      "source": [
        "# Import Numpy"
      ],
      "metadata": {
        "id": "5EvY5SC9_xh2"
      }
    },
    {
      "cell_type": "code",
      "source": [
        "import numpy as np"
      ],
      "metadata": {
        "id": "3VR8yzS4_0jY"
      },
      "execution_count": 1,
      "outputs": []
    },
    {
      "cell_type": "markdown",
      "metadata": {
        "id": "u8pcl7RtrkYT"
      },
      "source": [
        "#### **Homework 01:**\n",
        "Generate random matrix of size 8 x 5. Then, solve the following problems:"
      ]
    },
    {
      "cell_type": "code",
      "execution_count": 4,
      "metadata": {
        "id": "GK9uDUihrkYT",
        "colab": {
          "base_uri": "https://localhost:8080/"
        },
        "outputId": "9b5b6b47-3450-44d7-b37b-53ae2cfcfb69"
      },
      "outputs": [
        {
          "output_type": "stream",
          "name": "stdout",
          "text": [
            "[[6 5 1 3 3]\n",
            " [0 8 8 6 9]\n",
            " [8 6 5 6 7]\n",
            " [8 5 4 2 9]\n",
            " [0 0 4 6 3]\n",
            " [8 6 9 8 8]\n",
            " [8 4 6 0 5]\n",
            " [4 2 5 6 9]]\n"
          ]
        }
      ],
      "source": [
        "# Write your code to create the 8x5 random matrix here\n",
        "arr = np.random.randint(10, size=(8, 5))\n",
        "print(arr)"
      ]
    },
    {
      "cell_type": "markdown",
      "metadata": {
        "id": "I-lKzTg-rkYT"
      },
      "source": [
        "##### **Problem 01:**\n",
        "Calculate the sum and mean of the 3rd row of the matrix."
      ]
    },
    {
      "cell_type": "code",
      "execution_count": 6,
      "metadata": {
        "id": "Co5K_of7rkYU",
        "colab": {
          "base_uri": "https://localhost:8080/"
        },
        "outputId": "e241fcc9-df4e-40c7-d701-ff854b8f5606"
      },
      "outputs": [
        {
          "output_type": "stream",
          "name": "stdout",
          "text": [
            "3rd Row:  [8 6 5 6 7]\n",
            "Sum:  32  Mean:  6.4\n"
          ]
        }
      ],
      "source": [
        "# Write your code here\n",
        "row3 = arr[2]\n",
        "print(\"3rd Row: \", row3)\n",
        "print(\"Sum: \", row3.sum(), \" Mean: \", row3.mean())"
      ]
    },
    {
      "cell_type": "markdown",
      "metadata": {
        "id": "TqEBYVIfrkYU"
      },
      "source": [
        "##### **Problem 02:**\n",
        "Find the sum and mean of all the rows of the matrix."
      ]
    },
    {
      "cell_type": "code",
      "execution_count": 16,
      "metadata": {
        "id": "r22c9KSMrkYU",
        "colab": {
          "base_uri": "https://localhost:8080/"
        },
        "outputId": "7d5c957a-6c26-469f-f25c-ff0edc8dfe0a"
      },
      "outputs": [
        {
          "output_type": "stream",
          "name": "stdout",
          "text": [
            "Row: 1 Sum: 18 Mean: 3.6\n",
            "Row: 2 Sum: 31 Mean: 6.2\n",
            "Row: 3 Sum: 32 Mean: 6.4\n",
            "Row: 4 Sum: 28 Mean: 5.6\n",
            "Row: 5 Sum: 13 Mean: 2.6\n",
            "Row: 6 Sum: 39 Mean: 7.8\n",
            "Row: 7 Sum: 23 Mean: 4.6\n",
            "Row: 8 Sum: 26 Mean: 5.2\n"
          ]
        }
      ],
      "source": [
        "# Write your code here\n",
        "for i in range (8):\n",
        "  print(\"Row:\", i+1 ,\"Sum:\", np.sum(arr[i]), \"Mean:\", np.mean(arr[i]))"
      ]
    },
    {
      "cell_type": "markdown",
      "metadata": {
        "id": "o7f7k-EyrkYU"
      },
      "source": [
        "##### **Problem 03:**\n",
        "Find the mean of the 2nd column of the matrix without using the built-in function and loop."
      ]
    },
    {
      "cell_type": "code",
      "execution_count": 24,
      "metadata": {
        "id": "ZeFQFhCqrkYU",
        "colab": {
          "base_uri": "https://localhost:8080/"
        },
        "outputId": "25073be0-5311-44c0-af11-992fae3b5acf"
      },
      "outputs": [
        {
          "output_type": "stream",
          "name": "stdout",
          "text": [
            "Mean:  4.5\n"
          ]
        }
      ],
      "source": [
        "# Write your code here\n",
        "k=1;\n",
        "sum=0;\n",
        "sum=arr[0][1]+arr[1][1]+arr[2][1]+arr[3][1]+arr[4][1]+arr[5][1]+arr[6][1]+arr[7][1];\n",
        "\n",
        "print(\"Mean: \", sum/8.0)"
      ]
    },
    {
      "cell_type": "markdown",
      "metadata": {
        "id": "8FcTE2B2rkYV"
      },
      "source": [
        "##### **Problem 04:**\n",
        "Generate the vector `[25, 16, 9, 4, 1]` and then find the square root of each element of the vector using for loop. **Hint:** Use `np.sqrt()` function to find the square root of a number, don't use any other built-in function."
      ]
    },
    {
      "cell_type": "code",
      "execution_count": 28,
      "metadata": {
        "id": "y3b4eGwerkYV",
        "colab": {
          "base_uri": "https://localhost:8080/"
        },
        "outputId": "923e6576-e26e-481a-efc2-082648ea3613"
      },
      "outputs": [
        {
          "output_type": "stream",
          "name": "stdout",
          "text": [
            "25 --> 5.0\n",
            "16 --> 4.0\n",
            "9 --> 3.0\n",
            "4 --> 2.0\n",
            "1 --> 1.0\n"
          ]
        }
      ],
      "source": [
        "# Write your code here\n",
        "vector = [25, 16, 9, 4, 1]\n",
        "for index in vector:\n",
        "    print(index, \"-->\" ,np.sqrt(index))\n"
      ]
    },
    {
      "cell_type": "markdown",
      "metadata": {
        "id": "Ci6jW_kDrkYV"
      },
      "source": [
        "##### **Problem 05:**\n",
        "Write a function that takes a number and returns a vector like the previous problem. For example, if the input is 6, then the output should be `[36, 25, 16, 9, 4, 1]`. If the input is 10, then the output should be `[100, 81, 64, 49, 36, 25, 16, 9, 4, 1]`."
      ]
    },
    {
      "cell_type": "code",
      "execution_count": null,
      "metadata": {
        "id": "e0UBAnj0rkYV"
      },
      "outputs": [],
      "source": [
        "# Write your code here"
      ]
    },
    {
      "cell_type": "markdown",
      "metadata": {
        "id": "F2E611JarkYV"
      },
      "source": [
        "##### **Problem 06:**\n",
        "Generate the following block matrix:\n",
        "\n",
        "$$\n",
        "\\begin{bmatrix}\n",
        "1 & 0 & 0 & 3 & 3 \\\\\n",
        "0 & 1 & 0 & 3 & 3 \\\\\n",
        "0 & 0 & 1 & 3 & 3 \\\\\n",
        "25 & 16 & 9 & 4 & 1 \\\\\n",
        "\\end{bmatrix}\n",
        "$$\n",
        "\n",
        "You can use any built-in function to generate the matrix."
      ]
    },
    {
      "cell_type": "code",
      "execution_count": null,
      "metadata": {
        "id": "wB89v-PnrkYV"
      },
      "outputs": [],
      "source": [
        "# Write your code here"
      ]
    },
    {
      "cell_type": "markdown",
      "metadata": {
        "id": "V057z1-grkYV"
      },
      "source": [
        "##### **Problem 07:**\n",
        "Plot $y = 2x^2 + 3x + 1$ for $x \\in [-3, 3]$ with interval 0.25. You can use any built-in function to plot the graph."
      ]
    },
    {
      "cell_type": "code",
      "execution_count": null,
      "metadata": {
        "id": "BIZanQjRrkYW"
      },
      "outputs": [],
      "source": [
        "# Write your code here"
      ]
    },
    {
      "cell_type": "markdown",
      "metadata": {
        "id": "ojgcGn-PrkYW"
      },
      "source": [
        "##### **Problem 08:**\n",
        "Plot $x + y + z = 1$ for $x, y \\in [-3, 3]$ with interval 0.5. Use meshgrid to generate the grid. You can use any built-in function to plot the surface."
      ]
    },
    {
      "cell_type": "code",
      "execution_count": null,
      "metadata": {
        "id": "0yGTFSgMrkYW"
      },
      "outputs": [],
      "source": [
        "# Write your code here"
      ]
    },
    {
      "cell_type": "markdown",
      "metadata": {
        "id": "jQyj9jvKrkYW"
      },
      "source": [
        "##### **Problem 09:**\n",
        "Download the image of Lena Forsen from the following link: [https://upload.wikimedia.org/wikipedia/en/7/7d/Lenna_%28test_image%29.png](https://upload.wikimedia.org/wikipedia/en/7/7d/Lenna_%28test_image%29.png). Then, do the following tasks:\n",
        "\n",
        "*  Load the image to a numpy array.\n",
        "*  Find the size of the image.\n",
        "*  Find the minimum and maximum value of the image.\n",
        "*  Find the mean and standard deviation of the image.\n",
        "*  Plot the image using `plt.imshow()` or `display()`.\n",
        "*  Resize the image to 50 x 50.\n",
        "*  Convert the image to grayscale.\n",
        "*  Plot the grayscale image using `plt.imshow()` or `display()`.\n",
        "*  Save the grayscale image using `imsave()`.\n",
        "*  Stack the columns of the image to form a vector of size 2500 x 1."
      ]
    },
    {
      "cell_type": "code",
      "execution_count": null,
      "metadata": {
        "id": "M7OJQ8k2rkYW"
      },
      "outputs": [],
      "source": [
        "# Write your code here"
      ]
    },
    {
      "cell_type": "markdown",
      "metadata": {
        "id": "eptXy9QKrkYW"
      },
      "source": [
        "##### **Problem 10:**\n",
        "Compute 2nd order Taylor approximation of $e^{2x}$ and $e^{3x}$, and $e^{5x}$ around $a = 0$ for $x \\in [-1, 1]$ with interval 0.01. Then, determine which of the following is more accurate:\n",
        "> 1. Calculating the Taylor approximation separately for each $e^{2x}$, $e^{3x}$ then multiplying them together.\n",
        "> 2. Calculating the Taylor approximation for $e^{5x}$.\n",
        "\n",
        "Use mean square error (MSE) to determine the accuracy. Also, plot the Taylor approximation for 1st and 2nd method and the original function in the same plot for visual comparison."
      ]
    },
    {
      "cell_type": "code",
      "execution_count": null,
      "metadata": {
        "id": "4zEjVbLVrkYW"
      },
      "outputs": [],
      "source": [
        "# Write your code here"
      ]
    }
  ],
  "metadata": {
    "kernelspec": {
      "display_name": "Python 3.10.6 64-bit",
      "language": "python",
      "name": "python3"
    },
    "language_info": {
      "codemirror_mode": {
        "name": "ipython",
        "version": 3
      },
      "file_extension": ".py",
      "mimetype": "text/x-python",
      "name": "python",
      "nbconvert_exporter": "python",
      "pygments_lexer": "ipython3",
      "version": "3.10.6 (tags/v3.10.6:9c7b4bd, Aug  1 2022, 21:53:49) [MSC v.1932 64 bit (AMD64)]"
    },
    "orig_nbformat": 4,
    "vscode": {
      "interpreter": {
        "hash": "b148fc9bfa8b60132af830e32e1690e4e023b803e92912df15b823b90141dda6"
      }
    },
    "colab": {
      "provenance": []
    }
  },
  "nbformat": 4,
  "nbformat_minor": 0
}